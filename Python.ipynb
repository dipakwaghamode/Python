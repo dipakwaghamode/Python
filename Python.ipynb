{
 "cells": [
  {
   "cell_type": "code",
   "execution_count": 0,
   "metadata": {
    "application/vnd.databricks.v1+cell": {
     "cellMetadata": {
      "byteLimit": 2048000,
      "rowLimit": 10000
     },
     "inputWidgets": {},
     "nuid": "ac546bfa-dd11-4bff-937e-e07af37df4b0",
     "showTitle": false,
     "tableResultSettingsMap": {},
     "title": ""
    }
   },
   "outputs": [
    {
     "output_type": "stream",
     "name": "stdout",
     "output_type": "stream",
     "text": [
      "2020 Toyota Corolla\nThe Toyota Corolla is starting...\n"
     ]
    }
   ],
   "source": [
    "class Car:\n",
    "    # Constructor to initialize the object\n",
    "    def __init__(self, make, model, year):\n",
    "        self.make = make  # Attribute\n",
    "        self.model = model  # Attribute\n",
    "        self.year = year  # Attribute\n",
    "\n",
    "    # Method to display car info\n",
    "    def display_info(self):\n",
    "        print(f\"{self.year} {self.make} {self.model}\")\n",
    "\n",
    "    # Method to start the car\n",
    "    def start(self):\n",
    "        print(f\"The {self.make} {self.model} is starting...\")\n",
    "\n",
    "# Creating an object (instance) of the Car class\n",
    "my_car = Car(\"Toyota\", \"Corolla\", 2020)\n",
    "\n",
    "# Calling methods on the object\n",
    "my_car.display_info()  # Output: 2020 Toyota Corolla\n",
    "my_car.start()  # Output: The Toyota Corolla is starting...\n"
   ]
  },
  {
   "cell_type": "code",
   "execution_count": 0,
   "metadata": {
    "application/vnd.databricks.v1+cell": {
     "cellMetadata": {
      "byteLimit": 2048000,
      "rowLimit": 10000
     },
     "inputWidgets": {},
     "nuid": "63f12a2a-552c-412e-b3f8-1cf7b5cee1f5",
     "showTitle": false,
     "tableResultSettingsMap": {},
     "title": ""
    }
   },
   "outputs": [
    {
     "output_type": "stream",
     "name": "stdout",
     "output_type": "stream",
     "text": [
      "<class 'str'>\n"
     ]
    }
   ],
   "source": [
    "a = \"31.2\"\n",
    "t = type(a)\n",
    "\n",
    "print(t)"
   ]
  },
  {
   "cell_type": "code",
   "execution_count": 0,
   "metadata": {
    "application/vnd.databricks.v1+cell": {
     "cellMetadata": {
      "byteLimit": 2048000,
      "rowLimit": 10000
     },
     "inputWidgets": {},
     "nuid": "4ffcdc8a-29fd-427b-9276-954d17134469",
     "showTitle": false,
     "tableResultSettingsMap": {},
     "title": ""
    }
   },
   "outputs": [
    {
     "output_type": "stream",
     "name": "stdout",
     "output_type": "stream",
     "text": [
      "<class 'float'>\n"
     ]
    }
   ],
   "source": [
    "a = \"31.2\"\n",
    "b = float(a)\n",
    "t = type(b)\n",
    "\n",
    "print(t)"
   ]
  },
  {
   "cell_type": "code",
   "execution_count": 0,
   "metadata": {
    "application/vnd.databricks.v1+cell": {
     "cellMetadata": {
      "byteLimit": 2048000,
      "rowLimit": 10000
     },
     "inputWidgets": {},
     "nuid": "26e0dd3a-dfae-40c0-ab45-460f02f5491e",
     "showTitle": false,
     "tableResultSettingsMap": {},
     "title": ""
    }
   },
   "outputs": [
    {
     "output_type": "display_data",
     "data": {
      "text/plain": [
       "Enter number 1: 20"
      ]
     },
     "metadata": {},
     "output_type": "display_data"
    },
    {
     "output_type": "display_data",
     "data": {
      "text/plain": [
       "NO:2 30"
      ]
     },
     "metadata": {},
     "output_type": "display_data"
    },
    {
     "output_type": "stream",
     "name": "stdout",
     "output_type": "stream",
     "text": [
      "a is greater than b is a: False\n"
     ]
    }
   ],
   "source": [
    "a = int(input(\"Enter number 1:\"))\n",
    "b = int(input(\"NO:2\"))\n",
    "\n",
    "print(\"a is greater than b is a:\", a > b)"
   ]
  },
  {
   "cell_type": "code",
   "execution_count": 0,
   "metadata": {
    "application/vnd.databricks.v1+cell": {
     "cellMetadata": {
      "byteLimit": 2048000,
      "rowLimit": 10000
     },
     "inputWidgets": {},
     "nuid": "143373a9-68b0-4165-b419-e6fb0e51e0f6",
     "showTitle": false,
     "tableResultSettingsMap": {},
     "title": ""
    }
   },
   "outputs": [
    {
     "output_type": "display_data",
     "data": {
      "text/plain": [
       "Enter number 1: 20"
      ]
     },
     "metadata": {},
     "output_type": "display_data"
    },
    {
     "output_type": "display_data",
     "data": {
      "text/plain": [
       "NO:2 10"
      ]
     },
     "metadata": {},
     "output_type": "display_data"
    },
    {
     "output_type": "stream",
     "name": "stdout",
     "output_type": "stream",
     "text": [
      "a is greater than b is a: 15.0\n"
     ]
    }
   ],
   "source": [
    "a = int(input(\"Enter number 1:\"))\n",
    "b = int(input(\"NO:2\"))\n",
    "\n",
    "print(\"a is greater than b is a:\", (a + b)/2)"
   ]
  },
  {
   "cell_type": "markdown",
   "metadata": {
    "application/vnd.databricks.v1+cell": {
     "cellMetadata": {},
     "inputWidgets": {},
     "nuid": "375c592a-f051-4033-a61a-e31277232a55",
     "showTitle": false,
     "tableResultSettingsMap": {},
     "title": ""
    }
   },
   "source": [
    "##Strings"
   ]
  },
  {
   "cell_type": "code",
   "execution_count": 0,
   "metadata": {
    "application/vnd.databricks.v1+cell": {
     "cellMetadata": {
      "byteLimit": 2048000,
      "rowLimit": 10000
     },
     "inputWidgets": {},
     "nuid": "d480858c-58f9-4f0e-80db-f653c08b74d4",
     "showTitle": false,
     "tableResultSettingsMap": {},
     "title": ""
    }
   },
   "outputs": [
    {
     "output_type": "stream",
     "name": "stdout",
     "output_type": "stream",
     "text": [
      "Dip\n"
     ]
    }
   ],
   "source": [
    "name = \"Dipak\"\n",
    "\n",
    "nameshort = name[0:3]\n",
    "\n",
    "print(nameshort)"
   ]
  },
  {
   "cell_type": "code",
   "execution_count": 0,
   "metadata": {
    "application/vnd.databricks.v1+cell": {
     "cellMetadata": {
      "byteLimit": 2048000,
      "rowLimit": 10000
     },
     "inputWidgets": {},
     "nuid": "b4a4702c-cd25-45b2-852c-97ff125e8e99",
     "showTitle": false,
     "tableResultSettingsMap": {},
     "title": ""
    }
   },
   "outputs": [
    {
     "output_type": "stream",
     "name": "stdout",
     "output_type": "stream",
     "text": [
      "i\n"
     ]
    }
   ],
   "source": [
    "name = \"Dipak\"\n",
    "\n",
    "nameshort = name[0:3]\n",
    "# print(nameshort)\n",
    "character1 = name[1]\n",
    "print(character1)"
   ]
  },
  {
   "cell_type": "markdown",
   "metadata": {
    "application/vnd.databricks.v1+cell": {
     "cellMetadata": {},
     "inputWidgets": {},
     "nuid": "e803cf95-66bf-4eba-926e-06e41a71545a",
     "showTitle": false,
     "tableResultSettingsMap": {},
     "title": ""
    }
   },
   "source": [
    "##List"
   ]
  },
  {
   "cell_type": "code",
   "execution_count": 0,
   "metadata": {
    "application/vnd.databricks.v1+cell": {
     "cellMetadata": {
      "byteLimit": 2048000,
      "rowLimit": 10000
     },
     "inputWidgets": {},
     "nuid": "91f7c907-3b6f-41ee-9a24-f2ecc243b21f",
     "showTitle": false,
     "tableResultSettingsMap": {},
     "title": ""
    }
   },
   "outputs": [
    {
     "output_type": "stream",
     "name": "stdout",
     "output_type": "stream",
     "text": [
      "['Apple', 'Orange', 5, 345.5, False, 'Akash', 'Dpak']\n['Apple', 'Orange', 5, 345.5, False, 'Akash', 'Dpak', 'Harry']\n[1, 2, 6, 11, 34, 62]\n[62, 34, 11, 6, 2, 1]\n"
     ]
    }
   ],
   "source": [
    "friends = [\"Apple\",\"Orange\",5,345.5, False, \"Akash\",\"Dpak\"]\n",
    "print(friends)\n",
    "friends.append(\"Harry\")\n",
    "print(friends)\n",
    "\n",
    "l1 = [1,34,62,2,6,11]\n",
    "l1.sort()\n",
    "print(l1)\n",
    "l1.reverse()\n",
    "print(l1)"
   ]
  },
  {
   "cell_type": "code",
   "execution_count": 0,
   "metadata": {
    "application/vnd.databricks.v1+cell": {
     "cellMetadata": {
      "byteLimit": 2048000,
      "rowLimit": 10000
     },
     "inputWidgets": {},
     "nuid": "89463dc0-e217-48c9-bb09-470878fe1237",
     "showTitle": false,
     "tableResultSettingsMap": {},
     "title": ""
    }
   },
   "outputs": [
    {
     "output_type": "display_data",
     "data": {
      "text/plain": [
       "Enter name of fruit apple"
      ]
     },
     "metadata": {},
     "output_type": "display_data"
    },
    {
     "output_type": "display_data",
     "data": {
      "text/plain": [
       "Enter name of fruit mango"
      ]
     },
     "metadata": {},
     "output_type": "display_data"
    },
    {
     "output_type": "display_data",
     "data": {
      "text/plain": [
       "Enter name of fruit banana"
      ]
     },
     "metadata": {},
     "output_type": "display_data"
    },
    {
     "output_type": "display_data",
     "data": {
      "text/plain": [
       "Enter name of fruit orange"
      ]
     },
     "metadata": {},
     "output_type": "display_data"
    },
    {
     "output_type": "stream",
     "name": "stdout",
     "output_type": "stream",
     "text": [
      "['apple', 'mango', 'banana', 'orange']\n"
     ]
    }
   ],
   "source": [
    "#Write a program to store 4 fruits in a list entered by user.\n",
    "\n",
    "fruits=[]\n",
    "f1 = input(\"Enter name of fruit\")\n",
    "fruits.append(f1)\n",
    "f2 = input(\"Enter name of fruit\")\n",
    "fruits.append(f2)\n",
    "f3 = input(\"Enter name of fruit\")\n",
    "fruits.append(f3)\n",
    "f4 = input(\"Enter name of fruit\")\n",
    "fruits.append(f4)\n",
    "print(fruits)"
   ]
  },
  {
   "cell_type": "code",
   "execution_count": 0,
   "metadata": {
    "application/vnd.databricks.v1+cell": {
     "cellMetadata": {
      "byteLimit": 2048000,
      "rowLimit": 10000
     },
     "inputWidgets": {},
     "nuid": "832a8791-7bd4-48d0-a28b-fcbb2067dbc3",
     "showTitle": false,
     "tableResultSettingsMap": {},
     "title": ""
    }
   },
   "outputs": [
    {
     "output_type": "display_data",
     "data": {
      "text/plain": [
       "Enter the marks 23"
      ]
     },
     "metadata": {},
     "output_type": "display_data"
    },
    {
     "output_type": "display_data",
     "data": {
      "text/plain": [
       "Enter the marks 11"
      ]
     },
     "metadata": {},
     "output_type": "display_data"
    },
    {
     "output_type": "display_data",
     "data": {
      "text/plain": [
       "Enter the marks 21"
      ]
     },
     "metadata": {},
     "output_type": "display_data"
    },
    {
     "output_type": "display_data",
     "data": {
      "text/plain": [
       "Enter the marks 11"
      ]
     },
     "metadata": {},
     "output_type": "display_data"
    },
    {
     "output_type": "stream",
     "name": "stdout",
     "output_type": "stream",
     "text": [
      "[11, 11, 21, 23]\n"
     ]
    }
   ],
   "source": [
    "#Write a program to accept marks of 6 student and display them in a sorted manner.\n",
    "\n",
    "marks = []\n",
    "m1 = int(input(\"Enter the marks\"))\n",
    "marks.append(m1)\n",
    "m2 = int(input(\"Enter the marks\"))\n",
    "marks.append(m2)\n",
    "m3 = int(input(\"Enter the marks\"))\n",
    "marks.append(m3)\n",
    "m4 = int(input(\"Enter the marks\"))\n",
    "marks.append(m4)\n",
    "marks.sort()\n",
    "print(marks)\n"
   ]
  },
  {
   "cell_type": "code",
   "execution_count": 0,
   "metadata": {
    "application/vnd.databricks.v1+cell": {
     "cellMetadata": {
      "byteLimit": 2048000,
      "rowLimit": 10000
     },
     "inputWidgets": {},
     "nuid": "82962e6d-eff4-476e-903b-f61665b6666d",
     "showTitle": false,
     "tableResultSettingsMap": {},
     "title": ""
    }
   },
   "outputs": [
    {
     "output_type": "stream",
     "name": "stdout",
     "output_type": "stream",
     "text": [
      "213\n"
     ]
    }
   ],
   "source": [
    "#Write a program to print sum of numbers.\n",
    "l = [23,45,57,87,1]\n",
    "\n",
    "print(sum(l))"
   ]
  },
  {
   "cell_type": "markdown",
   "metadata": {
    "application/vnd.databricks.v1+cell": {
     "cellMetadata": {},
     "inputWidgets": {},
     "nuid": "788a13c4-63b4-41ce-9ce4-bda5a81c24a5",
     "showTitle": false,
     "tableResultSettingsMap": {},
     "title": ""
    }
   },
   "source": [
    "##Tuple"
   ]
  },
  {
   "cell_type": "code",
   "execution_count": 0,
   "metadata": {
    "application/vnd.databricks.v1+cell": {
     "cellMetadata": {
      "byteLimit": 2048000,
      "rowLimit": 10000
     },
     "inputWidgets": {},
     "nuid": "3e97c9fd-3fd4-448f-8586-52f17324efe9",
     "showTitle": false,
     "tableResultSettingsMap": {},
     "title": ""
    }
   },
   "outputs": [
    {
     "output_type": "stream",
     "name": "stdout",
     "output_type": "stream",
     "text": [
      "[1, 24, 2323, False, 24, 'Dpak', 'Rohan']\n2\n3\n"
     ]
    }
   ],
   "source": [
    "a = (1,24,2323,False,24,\"Dpak\",\"Rohan\")\n",
    "print(a)\n",
    "\n",
    "no = a.count(24)\n",
    "print(no)\n",
    "i = a.index(False)\n",
    "print(i)"
   ]
  },
  {
   "cell_type": "code",
   "execution_count": 0,
   "metadata": {
    "application/vnd.databricks.v1+cell": {
     "cellMetadata": {
      "byteLimit": 2048000,
      "rowLimit": 10000
     },
     "inputWidgets": {},
     "nuid": "b13af882-d8fd-464c-8017-2819fe6241d2",
     "showTitle": false,
     "tableResultSettingsMap": {},
     "title": ""
    }
   },
   "outputs": [
    {
     "output_type": "display_data",
     "data": {
      "text/plain": [
       "\u001B[0;31m---------------------------------------------------------------------------\u001B[0m\n",
       "\u001B[0;31mTypeError\u001B[0m                                 Traceback (most recent call last)\n",
       "File \u001B[0;32m<command-1281088418485773>:3\u001B[0m\n",
       "\u001B[1;32m      1\u001B[0m \u001B[38;5;66;03m#Check that a tuple type cannot be changed in python.\u001B[39;00m\n",
       "\u001B[1;32m      2\u001B[0m a \u001B[38;5;241m=\u001B[39m (\u001B[38;5;241m34\u001B[39m,\u001B[38;5;241m443\u001B[39m,\u001B[38;5;124m\"\u001B[39m\u001B[38;5;124mDipak\u001B[39m\u001B[38;5;124m\"\u001B[39m)\n",
       "\u001B[0;32m----> 3\u001B[0m a[\u001B[38;5;241m2\u001B[39m] \u001B[38;5;241m=\u001B[39m \u001B[38;5;124m\"\u001B[39m\u001B[38;5;124mSudhir\u001B[39m\u001B[38;5;124m\"\u001B[39m\n",
       "\n",
       "\u001B[0;31mTypeError\u001B[0m: 'tuple' object does not support item assignment"
      ]
     },
     "metadata": {
      "application/vnd.databricks.v1+output": {
       "arguments": {},
       "data": "\u001B[0;31m---------------------------------------------------------------------------\u001B[0m\n\u001B[0;31mTypeError\u001B[0m                                 Traceback (most recent call last)\nFile \u001B[0;32m<command-1281088418485773>:3\u001B[0m\n\u001B[1;32m      1\u001B[0m \u001B[38;5;66;03m#Check that a tuple type cannot be changed in python.\u001B[39;00m\n\u001B[1;32m      2\u001B[0m a \u001B[38;5;241m=\u001B[39m (\u001B[38;5;241m34\u001B[39m,\u001B[38;5;241m443\u001B[39m,\u001B[38;5;124m\"\u001B[39m\u001B[38;5;124mDipak\u001B[39m\u001B[38;5;124m\"\u001B[39m)\n\u001B[0;32m----> 3\u001B[0m a[\u001B[38;5;241m2\u001B[39m] \u001B[38;5;241m=\u001B[39m \u001B[38;5;124m\"\u001B[39m\u001B[38;5;124mSudhir\u001B[39m\u001B[38;5;124m\"\u001B[39m\n\n\u001B[0;31mTypeError\u001B[0m: 'tuple' object does not support item assignment",
       "errorSummary": "<span class='ansi-red-fg'>TypeError</span>: 'tuple' object does not support item assignment",
       "errorTraceType": "ansi",
       "metadata": {},
       "type": "ipynbError"
      }
     },
     "output_type": "display_data"
    }
   ],
   "source": [
    "#Check that a tuple type cannot be changed in python.\n",
    "a = (34,443,\"Dipak\")\n",
    "a[2] = \"Sudhir\"\n",
    "print(a)\n"
   ]
  },
  {
   "cell_type": "code",
   "execution_count": 0,
   "metadata": {
    "application/vnd.databricks.v1+cell": {
     "cellMetadata": {
      "byteLimit": 2048000,
      "rowLimit": 10000
     },
     "inputWidgets": {},
     "nuid": "4e20e549-eae1-4403-a364-d7a7278e0898",
     "showTitle": false,
     "tableResultSettingsMap": {},
     "title": ""
    }
   },
   "outputs": [
    {
     "output_type": "stream",
     "name": "stdout",
     "output_type": "stream",
     "text": [
      "1\n<class 'tuple'>\n"
     ]
    }
   ],
   "source": [
    "#Write a program to count the number of zeros in the given tuple\n",
    "c = (0,2,4,2,6,0,\"Dipak\",\"dipak\")\n",
    "n = c.count(\"Dipak\")\n",
    "print(n)\n",
    "print(type(c))"
   ]
  },
  {
   "cell_type": "markdown",
   "metadata": {
    "application/vnd.databricks.v1+cell": {
     "cellMetadata": {
      "byteLimit": 2048000,
      "rowLimit": 10000
     },
     "inputWidgets": {},
     "nuid": "e5218ade-ba0d-4980-8e78-139f927f67e9",
     "showTitle": false,
     "tableResultSettingsMap": {},
     "title": ""
    }
   },
   "source": [
    "##Dictonary"
   ]
  },
  {
   "cell_type": "code",
   "execution_count": 0,
   "metadata": {
    "application/vnd.databricks.v1+cell": {
     "cellMetadata": {
      "byteLimit": 2048000,
      "rowLimit": 10000
     },
     "inputWidgets": {},
     "nuid": "dab0c767-42c1-4239-a514-f1156e9697b1",
     "showTitle": false,
     "tableResultSettingsMap": {},
     "title": ""
    }
   },
   "outputs": [
    {
     "output_type": "stream",
     "name": "stdout",
     "output_type": "stream",
     "text": [
      "{'key': 'value', 'Dipak': 'code', 'sudhir': '190', 'list': [1, 2, 9]}\ncode\n"
     ]
    }
   ],
   "source": [
    "a = {\"key\":\"value\",\n",
    "     \"Dipak\":\"code\",\n",
    "     \"sudhir\":\"190\",\n",
    "     \"list\":[1,2,9]\n",
    "     }\n",
    "print(a)\n",
    "print(a[\"Dipak\"])     \n",
    "#a[\"key\"]\n",
    "#a[list]     "
   ]
  },
  {
   "cell_type": "code",
   "execution_count": 0,
   "metadata": {
    "application/vnd.databricks.v1+cell": {
     "cellMetadata": {
      "byteLimit": 2048000,
      "rowLimit": 10000
     },
     "inputWidgets": {},
     "nuid": "934d997e-1a3b-4090-83e8-13af03f19f72",
     "showTitle": false,
     "tableResultSettingsMap": {},
     "title": ""
    }
   },
   "outputs": [
    {
     "output_type": "stream",
     "name": "stdout",
     "output_type": "stream",
     "text": [
      "dict_items([('key', 'value'), ('Dipak', 'code'), ('sudhir', '190')])\ndict_keys(['key', 'Dipak', 'sudhir'])\ndict_values(['value', 'code', '190'])\n{'key': 'value', 'Dipak': 99, 'sudhir': '190', 'Renuka': 60}\n99\n99\n"
     ]
    }
   ],
   "source": [
    "marks = {\"key\":\"value\",\n",
    "     \"Dipak\":\"code\",\n",
    "     \"sudhir\":\"190\",\n",
    "     }\n",
    "print(marks.items())\n",
    "print(marks.keys())\n",
    "print(marks.values())\n",
    "marks.update({\"Dipak\":99,\"Renuka\":60})\n",
    "print(marks)\n",
    "print(marks.get(\"Dipak\"))\n",
    "print(marks[\"Dipak\"])"
   ]
  },
  {
   "cell_type": "code",
   "execution_count": 0,
   "metadata": {
    "application/vnd.databricks.v1+cell": {
     "cellMetadata": {
      "byteLimit": 2048000,
      "rowLimit": 10000
     },
     "inputWidgets": {},
     "nuid": "21ea56dc-4dd8-4315-bef5-bf498d99bac4",
     "showTitle": false,
     "tableResultSettingsMap": {},
     "title": ""
    }
   },
   "outputs": [
    {
     "output_type": "stream",
     "name": "stdout",
     "output_type": "stream",
     "text": [
      "{1, 34, 'Dipak', 5, 54} <class 'set'>\n{1, 34, 'Dipak', 564, 5, 54} <class 'set'>\n<class 'set'>\n"
     ]
    }
   ],
   "source": [
    "#Methods\n",
    "#1.add()\n",
    "s = {1,34,54,5,5,\"Dipak\"}\n",
    "a = {()}\n",
    "print(s,type(s))\n",
    "s.add(564)\n",
    "print(s,type(s))\n",
    "len(s)\n",
    "print(type(a))"
   ]
  },
  {
   "cell_type": "markdown",
   "metadata": {
    "application/vnd.databricks.v1+cell": {
     "cellMetadata": {},
     "inputWidgets": {},
     "nuid": "09fc6c79-c738-4eb1-8b50-db02c8359f20",
     "showTitle": false,
     "tableResultSettingsMap": {},
     "title": ""
    }
   },
   "source": [
    "##Set"
   ]
  },
  {
   "cell_type": "code",
   "execution_count": 0,
   "metadata": {
    "application/vnd.databricks.v1+cell": {
     "cellMetadata": {
      "byteLimit": 2048000,
      "rowLimit": 10000
     },
     "inputWidgets": {},
     "nuid": "dcaf5b2b-3275-4bce-8cdd-018c8e3bd523",
     "showTitle": false,
     "tableResultSettingsMap": {},
     "title": ""
    }
   },
   "outputs": [
    {
     "output_type": "stream",
     "name": "stdout",
     "output_type": "stream",
     "text": [
      "{1, 2, 'Dipak', 56, 45}\n{2}\n"
     ]
    }
   ],
   "source": [
    "##Set Operations\n",
    "#UNION,Intersection\n",
    "s1 = {1,45,2,1,\"Dipak\"}\n",
    "s2 = {2,2,56}\n",
    "\n",
    "print(s1.union(s2))\n",
    "\n",
    "print(s1.intersection(s2))"
   ]
  },
  {
   "cell_type": "code",
   "execution_count": 0,
   "metadata": {
    "application/vnd.databricks.v1+cell": {
     "cellMetadata": {
      "byteLimit": 2048000,
      "rowLimit": 10000
     },
     "inputWidgets": {},
     "nuid": "cdb527e8-94be-46aa-971b-189ece69e34f",
     "showTitle": false,
     "tableResultSettingsMap": {},
     "title": ""
    }
   },
   "outputs": [
    {
     "output_type": "display_data",
     "data": {
      "text/plain": [
       "Enter any word: madad"
      ]
     },
     "metadata": {},
     "output_type": "display_data"
    },
    {
     "output_type": "stream",
     "name": "stdout",
     "output_type": "stream",
     "text": [
      "Help\n"
     ]
    }
   ],
   "source": [
    "#Practice of Dictonary and Set\n",
    "#Write a program to create a dictonary of hindi words with values as their English translation. Provide user with an option to look it up.\n",
    "words = {\n",
    "  \"madad\":\"Help\",\n",
    "  \"Kursi\":\"Chair\",\n",
    "  \"Billi\":\"Cat\"\n",
    "}\n",
    "word = input(\"Enter any word:\")\n",
    "print(words[word])"
   ]
  },
  {
   "cell_type": "code",
   "execution_count": 0,
   "metadata": {
    "application/vnd.databricks.v1+cell": {
     "cellMetadata": {
      "byteLimit": 2048000,
      "rowLimit": 10000
     },
     "inputWidgets": {},
     "nuid": "9fa0688c-8c0f-4dd0-a179-9db8d1a82ad2",
     "showTitle": false,
     "tableResultSettingsMap": {},
     "title": ""
    }
   },
   "outputs": [
    {
     "output_type": "display_data",
     "data": {
      "text/plain": [
       "Enter number: 12"
      ]
     },
     "metadata": {},
     "output_type": "display_data"
    },
    {
     "output_type": "display_data",
     "data": {
      "text/plain": [
       "Enter number: 3"
      ]
     },
     "metadata": {},
     "output_type": "display_data"
    },
    {
     "output_type": "display_data",
     "data": {
      "text/plain": [
       "Enter number: 12"
      ]
     },
     "metadata": {},
     "output_type": "display_data"
    },
    {
     "output_type": "display_data",
     "data": {
      "text/plain": [
       "Enter number: 4"
      ]
     },
     "metadata": {},
     "output_type": "display_data"
    },
    {
     "output_type": "stream",
     "name": "stdout",
     "output_type": "stream",
     "text": [
      "{3, 12, 4}\n"
     ]
    }
   ],
   "source": [
    "#Write a program to take inpute no and print unique no.\n",
    "s = set()\n",
    "n = input(\"Enter number:\")\n",
    "s.add(int(n))\n",
    "n = input(\"Enter number:\")\n",
    "s.add(int(n))\n",
    "n = input(\"Enter number:\")\n",
    "s.add(int(n))\n",
    "n = input(\"Enter number:\")\n",
    "s.add(int(n))\n",
    "\n",
    "print(s)"
   ]
  },
  {
   "cell_type": "markdown",
   "metadata": {
    "application/vnd.databricks.v1+cell": {
     "cellMetadata": {},
     "inputWidgets": {},
     "nuid": "453d8b65-bce2-4fce-a097-f6cacf4b2eaf",
     "showTitle": false,
     "tableResultSettingsMap": {},
     "title": ""
    }
   },
   "source": [
    "##Practice Questions on Set and Dictonaries"
   ]
  },
  {
   "cell_type": "code",
   "execution_count": 0,
   "metadata": {
    "application/vnd.databricks.v1+cell": {
     "cellMetadata": {
      "byteLimit": 2048000,
      "rowLimit": 10000
     },
     "inputWidgets": {},
     "nuid": "860a56b7-81b4-4d56-bd9c-40948d55fff3",
     "showTitle": false,
     "tableResultSettingsMap": {},
     "title": ""
    }
   },
   "outputs": [
    {
     "output_type": "stream",
     "name": "stdout",
     "output_type": "stream",
     "text": [
      "{1, 'Dipak', 3, 36, 'Sudhir', 43, 45}\n"
     ]
    }
   ],
   "source": [
    "#1)Given 2 dictonaries, megre them into a single dictonary\n",
    "dict1 = {1,45,3,\"Dipak\",\"Sudhir\"}\n",
    "dict2 = {43,\"Dipak\",1,36}\n",
    "\n",
    "dict1.update(dict2)\n",
    "\n",
    "print(dict1)"
   ]
  },
  {
   "cell_type": "code",
   "execution_count": 0,
   "metadata": {
    "application/vnd.databricks.v1+cell": {
     "cellMetadata": {
      "byteLimit": 2048000,
      "rowLimit": 10000
     },
     "inputWidgets": {},
     "nuid": "4b933cfd-0c3f-4236-ab6b-5c8bcc649d34",
     "showTitle": false,
     "tableResultSettingsMap": {},
     "title": ""
    }
   },
   "outputs": [
    {
     "output_type": "stream",
     "name": "stdout",
     "output_type": "stream",
     "text": [
      "The most frequent element is: 2\n"
     ]
    }
   ],
   "source": [
    "#2)Write a program that the most frequent element in a list.\n",
    "from collections import Counter\n",
    "\n",
    "def most_frequent_element(lst):\n",
    "    # Use Counter to count occurrences of each element in the list\n",
    "    count = Counter(lst)\n",
    "    \n",
    "    # Get the most common element\n",
    "    most_common = count.most_common(1)\n",
    "    \n",
    "    # Return the most frequent element\n",
    "    return most_common[0][0]\n",
    "\n",
    "# Example usage\n",
    "lst = [1, 2, 3, 3, 2, 3, 4, 4, 2, 2, 1, 1, 2]\n",
    "result = most_frequent_element(lst)\n",
    "print(\"The most frequent element is:\", result)\n"
   ]
  },
  {
   "cell_type": "code",
   "execution_count": 0,
   "metadata": {
    "application/vnd.databricks.v1+cell": {
     "cellMetadata": {
      "byteLimit": 2048000,
      "rowLimit": 10000
     },
     "inputWidgets": {},
     "nuid": "31b25656-730f-4777-8ca1-59a1ad5814ca",
     "showTitle": false,
     "tableResultSettingsMap": {},
     "title": ""
    }
   },
   "outputs": [
    {
     "output_type": "stream",
     "name": "stdout",
     "output_type": "stream",
     "text": [
      "50\n{'Sudhir': 23, 'Sagar': 12}\n"
     ]
    }
   ],
   "source": [
    "#3)Implement a function that removes a key-value pair from a dictionary.\n",
    "\n",
    "dict = {\"Dipak\":50,\"Sudhir\":23,\"Sagar\":12}\n",
    "\n",
    "value = dict.pop(\"Dipak\")\n",
    "\n",
    "print(value)\n",
    "print(dict)"
   ]
  },
  {
   "cell_type": "code",
   "execution_count": 0,
   "metadata": {
    "application/vnd.databricks.v1+cell": {
     "cellMetadata": {
      "byteLimit": 2048000,
      "rowLimit": 10000
     },
     "inputWidgets": {},
     "nuid": "e5e033d8-59e7-4767-a72e-9a82dee72784",
     "showTitle": false,
     "tableResultSettingsMap": {},
     "title": ""
    }
   },
   "outputs": [
    {
     "output_type": "stream",
     "name": "stdout",
     "output_type": "stream",
     "text": [
      "{'Dipak', 98}\n"
     ]
    }
   ],
   "source": [
    "#4)Create a program that check if 2 sets have any element in common.\n",
    "\n",
    "set1 = {2,46,98,\"Dipak\"}\n",
    "set2 = {\"Dipak\",32,45,98}\n",
    "\n",
    "set =  set1.intersection(set2)\n",
    "print(set)"
   ]
  },
  {
   "cell_type": "code",
   "execution_count": 0,
   "metadata": {
    "application/vnd.databricks.v1+cell": {
     "cellMetadata": {
      "byteLimit": 2048000,
      "rowLimit": 10000
     },
     "inputWidgets": {},
     "nuid": "9307cbf3-f850-41f0-a72d-9296fff9efdf",
     "showTitle": false,
     "tableResultSettingsMap": {},
     "title": ""
    }
   },
   "outputs": [
    {
     "output_type": "stream",
     "name": "stdout",
     "output_type": "stream",
     "text": [
      "{'name': 'Charlie', 'age': 35}\n"
     ]
    }
   ],
   "source": [
    "#5)Given a list of dictionaries, find the dictionary with the highest value for a specific key.\n",
    "\n",
    "dict_list = [\n",
    "    {'name': 'Alice', 'age': 25},\n",
    "    {'name': 'Bob', 'age': 30},\n",
    "    {'name': 'Charlie', 'age': 35}\n",
    "]\n",
    "\n",
    "# Find the dictionary with the highest 'age'\n",
    "highest_value = max(dict_list, key=lambda x: x['age'])\n",
    "\n",
    "print(highest_value)\n"
   ]
  },
  {
   "cell_type": "code",
   "execution_count": 0,
   "metadata": {
    "application/vnd.databricks.v1+cell": {
     "cellMetadata": {
      "byteLimit": 2048000,
      "rowLimit": 10000
     },
     "inputWidgets": {},
     "nuid": "ff4b22af-8c37-454d-88fe-b0ca514dbfb1",
     "showTitle": false,
     "tableResultSettingsMap": {},
     "title": ""
    }
   },
   "outputs": [
    {
     "output_type": "stream",
     "name": "stdout",
     "output_type": "stream",
     "text": [
      "{'h': 1, 'e': 1, 'l': 3, 'o': 2, ' ': 1, 'w': 1, 'r': 1, 'd': 1}\n"
     ]
    }
   ],
   "source": [
    "#6)Write a python program that counts the number of occurences of each character in a given string using a dictonary.\n",
    "input_string = \"hello world\"\n",
    "\n",
    "# Create an empty dictionary to store character counts\n",
    "char_count = {}\n",
    "\n",
    "# Loop through each character in the string\n",
    "for char in input_string:\n",
    "    # If the character is already in the dictionary, increment its count\n",
    "    if char in char_count:\n",
    "        char_count[char] += 1\n",
    "    # Otherwise, add the character to the dictionary with count 1\n",
    "    else:\n",
    "        char_count[char] = 1\n",
    "\n",
    "print(char_count)\n"
   ]
  },
  {
   "cell_type": "code",
   "execution_count": 0,
   "metadata": {
    "application/vnd.databricks.v1+cell": {
     "cellMetadata": {
      "byteLimit": 2048000,
      "rowLimit": 10000
     },
     "inputWidgets": {},
     "nuid": "8a071982-2330-485e-81cd-ae2ccc02d166",
     "showTitle": false,
     "tableResultSettingsMap": {},
     "title": ""
    }
   },
   "outputs": [
    {
     "output_type": "stream",
     "name": "stdout",
     "output_type": "stream",
     "text": [
      "Union: {1, 2, 3, 4, 5, 6, 7, 8}\nIntersection: {4, 5}\nDifference (set1 - set2): {1, 2, 3}\n"
     ]
    }
   ],
   "source": [
    "#7)Give 2 sets and find the union,intersection and diffrence between them.\n",
    "# Define two sets\n",
    "set1 = {1, 2, 3, 4, 5}\n",
    "set2 = {4, 5, 6, 7, 8}\n",
    "\n",
    "# Union: All elements from both sets\n",
    "union_result = set1.union(set2)\n",
    "\n",
    "# Intersection: Elements that are in both sets\n",
    "intersection_result = set1.intersection(set2)\n",
    "\n",
    "# Difference: Elements in set1 but not in set2\n",
    "difference_result = set1.difference(set2)\n",
    "\n",
    "# Print the results\n",
    "print(\"Union:\", union_result)\n",
    "print(\"Intersection:\", intersection_result)\n",
    "print(\"Difference (set1 - set2):\", difference_result)\n"
   ]
  },
  {
   "cell_type": "code",
   "execution_count": 0,
   "metadata": {
    "application/vnd.databricks.v1+cell": {
     "cellMetadata": {
      "byteLimit": 2048000,
      "rowLimit": 10000
     },
     "inputWidgets": {},
     "nuid": "d33af3bb-fb50-4f9d-a7ab-48383c88dbd8",
     "showTitle": false,
     "tableResultSettingsMap": {},
     "title": ""
    }
   },
   "outputs": [
    {
     "output_type": "stream",
     "name": "stdout",
     "output_type": "stream",
     "text": [
      "[{'name': 'Dipak', 'age': 31}, {'name': 'Sagar', 'age': 24}, {'name': 'Sudhir', 'age': 20}]\n"
     ]
    }
   ],
   "source": [
    "# #8)Create function that takes a list of dictonaries and sort them based on a specified key.\n",
    "\n",
    "def sort_dict(sort_list, key):\n",
    "    return sorted(sort_list, key=lambda x: x[key])\n",
    "\n",
    "#List of dictionaries\n",
    "dict_list = [\n",
    "    {\"name\": \"Dipak\", \"age\": 31},\n",
    "    {\"name\": \"Sudhir\", \"age\": 20},\n",
    "    {\"name\": \"Sagar\", \"age\": 24}\n",
    "]\n",
    "\n",
    "# Sort the list of dictionaries by 'age'\n",
    "sorted_list = sort_dict(dict_list, 'name')\n",
    "\n",
    "print(sorted_list)\n"
   ]
  },
  {
   "cell_type": "code",
   "execution_count": 0,
   "metadata": {
    "application/vnd.databricks.v1+cell": {
     "cellMetadata": {
      "byteLimit": 2048000,
      "rowLimit": 10000
     },
     "inputWidgets": {},
     "nuid": "6fc28e57-45ee-4b08-93f3-eac46a58e81f",
     "showTitle": false,
     "tableResultSettingsMap": {},
     "title": ""
    }
   },
   "outputs": [
    {
     "output_type": "stream",
     "name": "stdout",
     "output_type": "stream",
     "text": [
      "22.333333333333332\n"
     ]
    }
   ],
   "source": [
    "#9)Write a program that find the average value of all the elements in a list of dictonary.\n",
    "def element(dict, key):\n",
    "    return sum(d[key] for d in dict) / len(dict)\n",
    "dict = [\n",
    "    {\"name\":\"Dipak\",\"age\": 21},\n",
    "    {\"name\":\"Sudhir\",\"age\": 32},\n",
    "    {\"name\":\"Sagar\",\"age\":14}\n",
    "]\n",
    "avg = element(dict,\"age\")\n",
    "\n",
    "print(avg)"
   ]
  },
  {
   "cell_type": "code",
   "execution_count": 0,
   "metadata": {
    "application/vnd.databricks.v1+cell": {
     "cellMetadata": {
      "byteLimit": 2048000,
      "rowLimit": 10000
     },
     "inputWidgets": {},
     "nuid": "eb27f39e-1c48-49e9-9ea6-f5412d202c47",
     "showTitle": false,
     "tableResultSettingsMap": {},
     "title": ""
    }
   },
   "outputs": [
    {
     "output_type": "stream",
     "name": "stdout",
     "output_type": "stream",
     "text": [
      "{'H', 'e'}\n"
     ]
    }
   ],
   "source": [
    "#10)Implement a function that takes a list of string and returns a set of unique characters present in all stringd.\n",
    "def setof(string):\n",
    "    return set(string[0]).intersection(*string[1:])\n",
    "\n",
    "string = [\"Hello\",\"HeDipak\"]\n",
    "final = setof(string)\n",
    "print(final)"
   ]
  },
  {
   "cell_type": "code",
   "execution_count": 0,
   "metadata": {
    "application/vnd.databricks.v1+cell": {
     "cellMetadata": {
      "byteLimit": 2048000,
      "rowLimit": 10000
     },
     "inputWidgets": {},
     "nuid": "4da47738-d2ec-4e70-aada-bbf123f803ae",
     "showTitle": false,
     "tableResultSettingsMap": {},
     "title": ""
    }
   },
   "outputs": [
    {
     "output_type": "stream",
     "name": "stdout",
     "output_type": "stream",
     "text": [
      "Common characters: {'l', 'o'}\n"
     ]
    }
   ],
   "source": [
    "def common_characters(strings):\n",
    "    # Start with the set of characters from the first string\n",
    "    return set(strings[0]).intersection(*strings[1:])\n",
    "\n",
    "# Example usage:\n",
    "strings = [\"hello\", \"world\", \"hold\"]\n",
    "result = common_characters(strings)\n",
    "\n",
    "print(f\"Common characters: {result}\")\n"
   ]
  },
  {
   "cell_type": "markdown",
   "metadata": {
    "application/vnd.databricks.v1+cell": {
     "cellMetadata": {
      "byteLimit": 2048000,
      "rowLimit": 10000
     },
     "inputWidgets": {},
     "nuid": "63987b1d-cbef-41e0-b608-90a5e389641c",
     "showTitle": false,
     "tableResultSettingsMap": {},
     "title": ""
    }
   },
   "source": [
    "##Practice questions of List and Tuple"
   ]
  },
  {
   "cell_type": "code",
   "execution_count": 0,
   "metadata": {
    "application/vnd.databricks.v1+cell": {
     "cellMetadata": {
      "byteLimit": 2048000,
      "rowLimit": 10000
     },
     "inputWidgets": {},
     "nuid": "eaf9530f-8ad5-4031-8a0a-2cfb1a07e822",
     "showTitle": false,
     "tableResultSettingsMap": {},
     "title": ""
    }
   },
   "outputs": [
    {
     "output_type": "stream",
     "name": "stdout",
     "output_type": "stream",
     "text": [
      "[12, 3, 'Dipak', 'Dipak', 23, 44, 54]\n"
     ]
    }
   ],
   "source": [
    "#1)Given two listes of numbers, concatenate them into a single list.\n",
    "\n",
    "list1 = [12,3,\"Dipak\"]\n",
    "list2 = [\"Dipak\",23,44,54]\n",
    "\n",
    "concatinate = list1 + list2\n",
    "print(concatinate)\n"
   ]
  },
  {
   "cell_type": "code",
   "execution_count": 0,
   "metadata": {
    "application/vnd.databricks.v1+cell": {
     "cellMetadata": {
      "byteLimit": 2048000,
      "rowLimit": 10000
     },
     "inputWidgets": {},
     "nuid": "832ade4b-d92e-4183-ba2f-48b1bb93a571",
     "showTitle": false,
     "tableResultSettingsMap": {},
     "title": ""
    }
   },
   "outputs": [
    {
     "output_type": "stream",
     "name": "stdout",
     "output_type": "stream",
     "text": [
      "86\n1\n"
     ]
    }
   ],
   "source": [
    "#2)Write a program that find largest and smallest element in a list.\n",
    "\n",
    "list1 = [23,54,77,2,1,3,57,86]\n",
    "\n",
    "a = max(list1)\n",
    "b = min(list1) \n",
    "print(a)\n",
    "print(b)"
   ]
  },
  {
   "cell_type": "code",
   "execution_count": 0,
   "metadata": {
    "application/vnd.databricks.v1+cell": {
     "cellMetadata": {
      "byteLimit": 2048000,
      "rowLimit": 10000
     },
     "inputWidgets": {},
     "nuid": "5e5a59e6-7002-4f70-97c8-312675eed3d5",
     "showTitle": false,
     "tableResultSettingsMap": {},
     "title": ""
    }
   },
   "outputs": [
    {
     "output_type": "stream",
     "name": "stdout",
     "output_type": "stream",
     "text": [
      "[32, 'Dipak', 6, 9, 3434, 45, 54, 88, 'w']\n"
     ]
    }
   ],
   "source": [
    "#3)Implement function that takes two listes and return their union(all unique element from both lists)\n",
    "def lists_union(list1, list2):\n",
    "    # Use set to find the union of both lists (removes duplicates)\n",
    "    return list(set(list1) | set(list2))  # | operator returns union of two sets\n",
    "\n",
    "# Example usage:\n",
    "list1 = [\"Dipak\", 45, 88, 9, \"w\", 54]\n",
    "list2 = [45, \"Dipak\", 3434, 6, 32]\n",
    "\n",
    "result = lists_union(list1, list2)\n",
    "print(result)\n"
   ]
  },
  {
   "cell_type": "code",
   "execution_count": 0,
   "metadata": {
    "application/vnd.databricks.v1+cell": {
     "cellMetadata": {
      "byteLimit": 2048000,
      "rowLimit": 10000
     },
     "inputWidgets": {},
     "nuid": "32e60ab9-9fac-467d-9d22-deeb55a625e9",
     "showTitle": false,
     "tableResultSettingsMap": {},
     "title": ""
    }
   },
   "outputs": [
    {
     "output_type": "stream",
     "name": "stdout",
     "output_type": "stream",
     "text": [
      "False\n"
     ]
    }
   ],
   "source": [
    "#4)Write a program to check given list is sorted in accending order.\n",
    "def is_sorted_ascending(list1):\n",
    "    # Check if the list is equal to its sorted version\n",
    "    return list1 == sorted(list1)\n",
    "\n",
    "list1 = [65, 267, 4, 5, 22]\n",
    "\n",
    "# Check if the list is sorted in ascending order\n",
    "result = is_sorted_ascending(list1)\n",
    "\n",
    "print(result)  # This will print True if sorted, False otherwise\n"
   ]
  },
  {
   "cell_type": "code",
   "execution_count": 0,
   "metadata": {
    "application/vnd.databricks.v1+cell": {
     "cellMetadata": {
      "byteLimit": 2048000,
      "rowLimit": 10000
     },
     "inputWidgets": {},
     "nuid": "381e7511-3342-44c8-a33b-4581619ac394",
     "showTitle": false,
     "tableResultSettingsMap": {},
     "title": ""
    }
   },
   "outputs": [
    {
     "output_type": "stream",
     "name": "stdout",
     "output_type": "stream",
     "text": [
      "['Hello', 'HeDipak']\n"
     ]
    }
   ],
   "source": [
    "#5)Create a function that takes a list of strings and returns the list sorted by the length of the strings.\n",
    "\n",
    "def strings(list1):\n",
    "    return sorted(list1,key=len)\n",
    "list1 = [\"HeDipak\",\"Hello\"]\n",
    "\n",
    "result = strings(list1)\n",
    "print(result)"
   ]
  },
  {
   "cell_type": "code",
   "execution_count": 0,
   "metadata": {
    "application/vnd.databricks.v1+cell": {
     "cellMetadata": {
      "byteLimit": 2048000,
      "rowLimit": 10000
     },
     "inputWidgets": {},
     "nuid": "304355ea-e40e-439f-964b-cf0090b44c57",
     "showTitle": false,
     "tableResultSettingsMap": {},
     "title": ""
    }
   },
   "outputs": [
    {
     "output_type": "stream",
     "name": "stdout",
     "output_type": "stream",
     "text": [
      "Unexpected exception formatting exception. Falling back to standard exception\n"
     ]
    },
    {
     "output_type": "stream",
     "name": "stderr",
     "output_type": "stream",
     "text": [
      "Traceback (most recent call last):\n  File \"/databricks/python/lib/python3.9/site-packages/IPython/core/interactiveshell.py\", line 3378, in run_code\n    exec(code_obj, self.user_global_ns, self.user_ns)\n  File \"<command-768108681335313>\", line 9, in <module>\n    result = remove_duplicates(list1)\n  File \"<command-768108681335313>\", line 4, in remove_duplicates\n    return list(dict.fromkeys(list1))\nAttributeError: 'list' object has no attribute 'fromkeys'\n\nDuring handling of the above exception, another exception occurred:\n\nTraceback (most recent call last):\n  File \"/databricks/python/lib/python3.9/site-packages/IPython/core/interactiveshell.py\", line 1997, in showtraceback\n    stb = self.InteractiveTB.structured_traceback(\n  File \"/databricks/python/lib/python3.9/site-packages/IPython/core/ultratb.py\", line 1112, in structured_traceback\n    return FormattedTB.structured_traceback(\n  File \"/databricks/python/lib/python3.9/site-packages/IPython/core/ultratb.py\", line 1006, in structured_traceback\n    return VerboseTB.structured_traceback(\n  File \"/databricks/python/lib/python3.9/site-packages/IPython/core/ultratb.py\", line 859, in structured_traceback\n    formatted_exception = self.format_exception_as_a_whole(etype, evalue, etb, number_of_lines_of_context,\n  File \"/databricks/python/lib/python3.9/site-packages/IPython/core/ultratb.py\", line 812, in format_exception_as_a_whole\n    frames.append(self.format_record(r))\n  File \"/databricks/python/lib/python3.9/site-packages/IPython/core/ultratb.py\", line 730, in format_record\n    result += ''.join(_format_traceback_lines(frame_info.lines, Colors, self.has_colors, lvals))\n  File \"/databricks/python/lib/python3.9/site-packages/stack_data/utils.py\", line 145, in cached_property_wrapper\n    value = obj.__dict__[self.func.__name__] = self.func(obj)\n  File \"/databricks/python/lib/python3.9/site-packages/stack_data/core.py\", line 698, in lines\n    pieces = self.included_pieces\n  File \"/databricks/python/lib/python3.9/site-packages/stack_data/utils.py\", line 145, in cached_property_wrapper\n    value = obj.__dict__[self.func.__name__] = self.func(obj)\n  File \"/databricks/python/lib/python3.9/site-packages/stack_data/core.py\", line 649, in included_pieces\n    pos = scope_pieces.index(self.executing_piece)\n  File \"/databricks/python/lib/python3.9/site-packages/stack_data/utils.py\", line 145, in cached_property_wrapper\n    value = obj.__dict__[self.func.__name__] = self.func(obj)\n  File \"/databricks/python/lib/python3.9/site-packages/stack_data/core.py\", line 628, in executing_piece\n    return only(\n  File \"/databricks/python/lib/python3.9/site-packages/executing/executing.py\", line 164, in only\n    raise NotOneValueFound('Expected one value, found 0')\nexecuting.executing.NotOneValueFound: Expected one value, found 0\n"
     ]
    },
    {
     "output_type": "display_data",
     "data": {
      "text/plain": [
       ""
      ]
     },
     "metadata": {
      "application/vnd.databricks.v1+output": {
       "arguments": {},
       "data": "",
       "errorSummary": "<span class='ansi-red-fg'>AttributeError</span>: 'list' object has no attribute 'fromkeys'",
       "errorTraceType": "ansi",
       "metadata": {},
       "type": "ipynbError"
      }
     },
     "output_type": "display_data"
    }
   ],
   "source": [
    "#6)Given a list of names, remove all duplicate names and print the unique names.\n",
    "def remove_duplicates(list1):\n",
    "    # Use dict.fromkeys() to remove duplicates and maintain order\n",
    "    return list(dict.fromkeys(list1))\n",
    "\n",
    "list1 = [\"Dipak\", \"Sudhir\", \"Dipak\", \"Sagar\"]\n",
    "\n",
    "# Get the list with unique names\n",
    "result = remove_duplicates(list1)\n",
    "\n",
    "print(result)\n"
   ]
  },
  {
   "cell_type": "code",
   "execution_count": 0,
   "metadata": {
    "application/vnd.databricks.v1+cell": {
     "cellMetadata": {},
     "inputWidgets": {},
     "nuid": "356d9b4d-f3d3-4c0f-a66a-b1bbbea3ce64",
     "showTitle": false,
     "tableResultSettingsMap": {},
     "title": ""
    }
   },
   "outputs": [],
   "source": []
  }
 ],
 "metadata": {
  "application/vnd.databricks.v1+notebook": {
   "computePreferences": null,
   "dashboards": [],
   "environmentMetadata": {
    "base_environment": "",
    "client": "1"
   },
   "language": "python",
   "notebookMetadata": {
    "pythonIndentUnit": 4
   },
   "notebookName": "Python_Basic",
   "widgets": {}
  }
 },
 "nbformat": 4,
 "nbformat_minor": 0
}
