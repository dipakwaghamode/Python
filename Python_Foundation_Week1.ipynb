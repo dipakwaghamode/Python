{
 "cells": [
  {
   "cell_type": "markdown",
   "metadata": {
    "application/vnd.databricks.v1+cell": {
     "cellMetadata": {},
     "inputWidgets": {},
     "nuid": "f7de9b83-9837-42c2-a3c9-c01c3c5753a5",
     "showTitle": false,
     "tableResultSettingsMap": {},
     "title": ""
    }
   },
   "source": [
    "Practice"
   ]
  },
  {
   "cell_type": "code",
   "execution_count": 0,
   "metadata": {
    "application/vnd.databricks.v1+cell": {
     "cellMetadata": {
      "byteLimit": 2048000,
      "rowLimit": 10000
     },
     "inputWidgets": {},
     "nuid": "02449a86-2cd4-4e7e-8ccc-21980aa68ddf",
     "showTitle": false,
     "tableResultSettingsMap": {},
     "title": ""
    }
   },
   "outputs": [
    {
     "output_type": "stream",
     "name": "stdout",
     "output_type": "stream",
     "text": [
      "value of a after swap 5\nValue of b after swap 2\n"
     ]
    }
   ],
   "source": [
    "#Swap 2 variable \n",
    "#method 1 using temp variable\n",
    "a=2\n",
    "b=5\n",
    "temp =a\n",
    "a=b\n",
    "b=temp\n",
    "print(\"value of a after swap\",a)\n",
    "print(\"Value of b after swap\",b)\n",
    "\n"
   ]
  },
  {
   "cell_type": "code",
   "execution_count": 0,
   "metadata": {
    "application/vnd.databricks.v1+cell": {
     "cellMetadata": {
      "byteLimit": 2048000,
      "rowLimit": 10000
     },
     "inputWidgets": {},
     "nuid": "eb8d7fba-b69f-44a3-95b7-cfa27351f414",
     "showTitle": false,
     "tableResultSettingsMap": {},
     "title": ""
    }
   },
   "outputs": [
    {
     "output_type": "stream",
     "name": "stdout",
     "output_type": "stream",
     "text": [
      "Value after swapping 10\nValue after swap 5\n"
     ]
    }
   ],
   "source": [
    "#Swap 2 variable \n",
    "#method 2 using touple unpacking\n",
    "x=5\n",
    "y=10\n",
    "x,y=y,x\n",
    "print(\"Value after swapping\",x)\n",
    "print(\"Value after swap\",y)\n"
   ]
  },
  {
   "cell_type": "code",
   "execution_count": 0,
   "metadata": {
    "application/vnd.databricks.v1+cell": {
     "cellMetadata": {
      "byteLimit": 2048000,
      "rowLimit": 10000
     },
     "inputWidgets": {},
     "nuid": "b5336653-68fa-4b9f-9868-f3ba3dd08d9d",
     "showTitle": false,
     "tableResultSettingsMap": {},
     "title": ""
    }
   },
   "outputs": [
    {
     "output_type": "display_data",
     "data": {
      "text/plain": [
       "Enter the number:  3"
      ]
     },
     "metadata": {},
     "output_type": "display_data"
    },
    {
     "output_type": "stream",
     "name": "stdout",
     "output_type": "stream",
     "text": [
      "3 is a prime number\n"
     ]
    }
   ],
   "source": [
    "# Function to check if a number is prime\n",
    "def is_prime(num):\n",
    "    if num < 2:  # Numbers less than 2 are not prime\n",
    "        return False\n",
    "    \n",
    "    # Loop through numbers from 2 to the square root of num\n",
    "    for i in range(2, int(num**0.5) + 1):\n",
    "        if num % i == 0:  # If num is divisible by any number in this range, it's not prime\n",
    "            return False\n",
    "    \n",
    "    return True  # If no divisors found, it's prime\n",
    "\n",
    "# Input from user\n",
    "num = int(input(\"Enter the number: \"))\n",
    "\n",
    "# Check if the number is prime\n",
    "if is_prime(num):\n",
    "    print(f\"{num} is a prime number\")\n",
    "else:\n",
    "    print(f\"{num} is not a prime number\")\n"
   ]
  },
  {
   "cell_type": "code",
   "execution_count": 0,
   "metadata": {
    "application/vnd.databricks.v1+cell": {
     "cellMetadata": {
      "byteLimit": 2048000,
      "rowLimit": 10000
     },
     "inputWidgets": {},
     "nuid": "bc8f55a4-9c19-4a14-9279-2b72a9de5f31",
     "showTitle": false,
     "tableResultSettingsMap": {},
     "title": ""
    }
   },
   "outputs": [
    {
     "output_type": "display_data",
     "data": {
      "text/plain": [
       "Enter a number: 3"
      ]
     },
     "metadata": {},
     "output_type": "display_data"
    },
    {
     "output_type": "stream",
     "name": "stdout",
     "output_type": "stream",
     "text": [
      "Out[72]: 6"
     ]
    }
   ],
   "source": [
    "#To Find Factorial no\n",
    "memo = {}\n",
    "def factorial(n):\n",
    "    if n == 0:\n",
    "        return 1\n",
    "    if n in memo:\n",
    "        return memo[n]\n",
    "    memo[n] = n * factorial(n - 1)\n",
    "    return memo[n]\n",
    "    \n",
    "factorial(int(input(\"Enter a number:\")))"
   ]
  },
  {
   "cell_type": "code",
   "execution_count": 0,
   "metadata": {
    "application/vnd.databricks.v1+cell": {
     "cellMetadata": {
      "byteLimit": 2048000,
      "rowLimit": 10000
     },
     "inputWidgets": {},
     "nuid": "6c5965d8-acf0-436c-ada6-d981af280902",
     "showTitle": false,
     "tableResultSettingsMap": {},
     "title": ""
    }
   },
   "outputs": [
    {
     "output_type": "stream",
     "name": "stdout",
     "output_type": "stream",
     "text": [
      "Out[73]: {1: 1, 2: 2, 3: 6}"
     ]
    }
   ],
   "source": [
    "memo"
   ]
  },
  {
   "cell_type": "code",
   "execution_count": 0,
   "metadata": {
    "application/vnd.databricks.v1+cell": {
     "cellMetadata": {
      "byteLimit": 2048000,
      "rowLimit": 10000
     },
     "inputWidgets": {},
     "nuid": "d0d4b1eb-aa02-4e97-8c64-f72b562dcd16",
     "showTitle": false,
     "tableResultSettingsMap": {},
     "title": ""
    }
   },
   "outputs": [
    {
     "output_type": "stream",
     "name": "stdout",
     "output_type": "stream",
     "text": [
      "Hi all\n"
     ]
    }
   ],
   "source": [
    "print (\"Hi all\")"
   ]
  },
  {
   "cell_type": "code",
   "execution_count": 0,
   "metadata": {
    "application/vnd.databricks.v1+cell": {
     "cellMetadata": {
      "byteLimit": 2048000,
      "rowLimit": 10000
     },
     "inputWidgets": {},
     "nuid": "03d1f34e-2adf-404d-a950-8db7beefc41d",
     "showTitle": false,
     "tableResultSettingsMap": {},
     "title": ""
    }
   },
   "outputs": [
    {
     "output_type": "display_data",
     "data": {
      "text/plain": [
       "Enter the no for a: 23"
      ]
     },
     "metadata": {},
     "output_type": "display_data"
    },
    {
     "output_type": "display_data",
     "data": {
      "text/plain": [
       "Enter the no for b: 56"
      ]
     },
     "metadata": {},
     "output_type": "display_data"
    },
    {
     "output_type": "stream",
     "name": "stdout",
     "output_type": "stream",
     "text": [
      "79\n"
     ]
    }
   ],
   "source": [
    "a= int(input(\"Enter the no for a:\"))\n",
    "b= int(input(\"Enter the no for b:\"))\n",
    "print(a+b)"
   ]
  },
  {
   "cell_type": "code",
   "execution_count": 0,
   "metadata": {
    "application/vnd.databricks.v1+cell": {
     "cellMetadata": {
      "byteLimit": 2048000,
      "rowLimit": 10000
     },
     "inputWidgets": {},
     "nuid": "7131c0c9-167c-49cc-bccb-b6321ff7c943",
     "showTitle": false,
     "tableResultSettingsMap": {},
     "title": ""
    }
   },
   "outputs": [
    {
     "output_type": "stream",
     "name": "stdout",
     "output_type": "stream",
     "text": [
      "Hello Dipak\n"
     ]
    }
   ],
   "source": [
    "\n",
    "a1 = \"Hello\"\n",
    "b1 = 'Dipak'\n",
    "result = ((a1) + (' ') + (b1))\n",
    "print(result) \n"
   ]
  },
  {
   "cell_type": "code",
   "execution_count": 0,
   "metadata": {
    "application/vnd.databricks.v1+cell": {
     "cellMetadata": {
      "byteLimit": 2048000,
      "rowLimit": 10000
     },
     "inputWidgets": {},
     "nuid": "62c2ae85-b071-4c8c-8973-d677c2fc8a62",
     "showTitle": false,
     "tableResultSettingsMap": {},
     "title": ""
    }
   },
   "outputs": [
    {
     "output_type": "stream",
     "name": "stdout",
     "output_type": "stream",
     "text": [
      "0.9064811415894469\n"
     ]
    }
   ],
   "source": [
    "#Generate random numbers using random function\n",
    "import random\n",
    "num = random.random()\n",
    "print(num)"
   ]
  },
  {
   "cell_type": "code",
   "execution_count": 0,
   "metadata": {
    "application/vnd.databricks.v1+cell": {
     "cellMetadata": {
      "byteLimit": 2048000,
      "rowLimit": 10000
     },
     "inputWidgets": {},
     "nuid": "d8444480-cac2-425d-93ec-3adb9288b8b7",
     "showTitle": false,
     "tableResultSettingsMap": {},
     "title": ""
    }
   },
   "outputs": [
    {
     "output_type": "stream",
     "name": "stdout",
     "output_type": "stream",
     "text": [
      "38.41202524684622\n"
     ]
    }
   ],
   "source": [
    "#Generate random number in specific  range\n",
    "num = random.uniform(1, 100)\n",
    "print(num)\n"
   ]
  },
  {
   "cell_type": "code",
   "execution_count": 0,
   "metadata": {
    "application/vnd.databricks.v1+cell": {
     "cellMetadata": {
      "byteLimit": 2048000,
      "rowLimit": 10000
     },
     "inputWidgets": {},
     "nuid": "b0e49b3f-2c21-47f4-981b-317f466c6ee4",
     "showTitle": false,
     "tableResultSettingsMap": {},
     "title": ""
    }
   },
   "outputs": [
    {
     "output_type": "stream",
     "name": "stdout",
     "output_type": "stream",
     "text": [
      "115\n"
     ]
    }
   ],
   "source": [
    "#random integer number in given range\n",
    "num = random.randint (1,200)\n",
    "print(num)"
   ]
  },
  {
   "cell_type": "code",
   "execution_count": 0,
   "metadata": {
    "application/vnd.databricks.v1+cell": {
     "cellMetadata": {
      "byteLimit": 2048000,
      "rowLimit": 10000
     },
     "inputWidgets": {},
     "nuid": "23228af9-5890-4504-84d5-76b4138984a3",
     "showTitle": false,
     "tableResultSettingsMap": {},
     "title": ""
    }
   },
   "outputs": [
    {
     "output_type": "stream",
     "name": "stdout",
     "output_type": "stream",
     "text": [
      "31\n"
     ]
    }
   ],
   "source": [
    "#random number with incremental steps.\n",
    "num = random.randrange (1, 100, 2)\n",
    "print(num)"
   ]
  },
  {
   "cell_type": "code",
   "execution_count": 0,
   "metadata": {
    "application/vnd.databricks.v1+cell": {
     "cellMetadata": {
      "byteLimit": 2048000,
      "rowLimit": 10000
     },
     "inputWidgets": {},
     "nuid": "345eb0b4-0a10-4928-b99a-99fed9b51efd",
     "showTitle": false,
     "tableResultSettingsMap": {},
     "title": ""
    }
   },
   "outputs": [
    {
     "output_type": "stream",
     "name": "stdout",
     "output_type": "stream",
     "text": [
      "[43, 23, 20]\n"
     ]
    }
   ],
   "source": [
    "#seres of random number\n",
    "num = random.sample(range(0, 100),3)\n",
    "print (num)"
   ]
  },
  {
   "cell_type": "code",
   "execution_count": 0,
   "metadata": {
    "application/vnd.databricks.v1+cell": {
     "cellMetadata": {
      "byteLimit": 2048000,
      "rowLimit": 10000
     },
     "inputWidgets": {},
     "nuid": "123f452e-a08d-43af-b720-96f288dc934c",
     "showTitle": false,
     "tableResultSettingsMap": {},
     "title": ""
    }
   },
   "outputs": [
    {
     "output_type": "display_data",
     "data": {
      "text/plain": [
       "Enter a number:  2"
      ]
     },
     "metadata": {},
     "output_type": "display_data"
    },
    {
     "output_type": "stream",
     "name": "stdout",
     "output_type": "stream",
     "text": [
      "0\n1\n"
     ]
    }
   ],
   "source": [
    "def fibonacci(n):\n",
    "    a, b = 0, 1  # First two numbers of Fibonacci series\n",
    "    \n",
    "    if n < 1:\n",
    "        print(\"null\")  # If the input is less than 1, return \"null\"\n",
    "    elif n == 1:\n",
    "        print(a)  # If the input is 1, only print the first Fibonacci number (0)\n",
    "    elif n == 2:\n",
    "        print(a)  # Print the first Fibonacci number (0)\n",
    "        print(b)  # Print the second Fibonacci number (1)\n",
    "    else:\n",
    "        print(a)  # Print the first Fibonacci number (0)\n",
    "        print(b)  # Print the second Fibonacci number (1)\n",
    "        \n",
    "        # Generate Fibonacci numbers from the 3rd onward\n",
    "        for _ in range(n - 2):  # n-2 because we've already printed the first two numbers\n",
    "            c = a + b\n",
    "            a, b = b, c\n",
    "            print(c)  # Print the next Fibonacci number\n",
    "\n",
    "# Taking user input and calling the function\n",
    "fibonacci(int(input(\"Enter a number: \")))\n"
   ]
  },
  {
   "cell_type": "code",
   "execution_count": 0,
   "metadata": {
    "application/vnd.databricks.v1+cell": {
     "cellMetadata": {
      "byteLimit": 2048000,
      "rowLimit": 10000
     },
     "inputWidgets": {},
     "nuid": "e9e22065-5240-45f0-9bf4-f95c0ead2ec6",
     "showTitle": false,
     "tableResultSettingsMap": {},
     "title": ""
    }
   },
   "outputs": [
    {
     "output_type": "display_data",
     "data": {
      "text/plain": [
       "Enter the number of rows: 5"
      ]
     },
     "metadata": {},
     "output_type": "display_data"
    },
    {
     "output_type": "stream",
     "name": "stdout",
     "output_type": "stream",
     "text": [
      "* \n* * \n* * * \n* * * * \n* * * * * \n"
     ]
    }
   ],
   "source": [
    "# Printing star in right triangle shape.\n",
    "\n",
    "num = int(input(\"Enter the number of rows:\"))  # Get user input for the number of rows, convert to an integer\n",
    "row = 0  # Initialize the variable 'row' to 0, which represents the current row number in the triangle\n",
    "\n",
    "# Outer while loop controls the number of rows to print\n",
    "while row < num:\n",
    "    star = row + 1  # Calculate the number of stars to print in the current row. In the 1st row, 1 star, 2nd row, 2 stars, etc.\n",
    "    \n",
    "    # Inner while loop controls printing stars in the current row\n",
    "    while star > 0:\n",
    "        print (\"*\", end=\" \")  # Print a star, and use 'end=\" \"' to make sure stars are printed on the same line with a space\n",
    "        star = star - 1  # Decrement the star variable by 1 (this loop runs until star is 0)\n",
    "        \n",
    "    row = row + 1  # Move to the next row (increment row by 1)\n",
    "    print()  # This prints a newline after each row of stars, so the stars in each row go to a new line.\n"
   ]
  },
  {
   "cell_type": "code",
   "execution_count": 0,
   "metadata": {
    "application/vnd.databricks.v1+cell": {
     "cellMetadata": {
      "byteLimit": 2048000,
      "rowLimit": 10000
     },
     "inputWidgets": {},
     "nuid": "d5f2dad5-1876-4830-9271-892508a7c154",
     "showTitle": false,
     "tableResultSettingsMap": {},
     "title": ""
    }
   },
   "outputs": [
    {
     "output_type": "display_data",
     "data": {
      "text/plain": [
       "Enter any positive number to check whether it is prime or not: 2"
      ]
     },
     "metadata": {},
     "output_type": "display_data"
    },
    {
     "output_type": "stream",
     "name": "stdout",
     "output_type": "stream",
     "text": [
      "2 prime no\n"
     ]
    }
   ],
   "source": [
    "num = int(input(\"Enter any positive number to check whether it is prime or not:\"))\n",
    "if num >1:\n",
    "    for i in range(2,num):\n",
    "        if(num%1)==0:\n",
    "            print(num,\"is a not prime no.\")\n",
    "            break\n",
    "    else:\n",
    "        print(num,\"is a prime no\")    "
   ]
  },
  {
   "cell_type": "code",
   "execution_count": 0,
   "metadata": {
    "application/vnd.databricks.v1+cell": {
     "cellMetadata": {
      "byteLimit": 2048000,
      "rowLimit": 10000
     },
     "inputWidgets": {},
     "nuid": "7ee06028-0e8e-4de0-8261-4548dbde9af0",
     "showTitle": false,
     "tableResultSettingsMap": {},
     "title": ""
    }
   },
   "outputs": [
    {
     "output_type": "display_data",
     "data": {
      "text/plain": [
       "Enter the number of rows: 4"
      ]
     },
     "metadata": {},
     "output_type": "display_data"
    },
    {
     "output_type": "stream",
     "name": "stdout",
     "output_type": "stream",
     "text": [
      "A \nB C \nC D E \nD E F G \n"
     ]
    }
   ],
   "source": [
    "n = int(input(\"Enter the number of rows:\"))\n",
    "for i in range(n):\n",
    "    k = ord(\"A\") + i  # Starting from 'A' and adding the row number\n",
    "    for j in range(i + 1):\n",
    "        print(chr(k), end=\" \")  # Print the character corresponding to the value of k\n",
    "        k = k + 1  # Increment k to print the next character\n",
    "    print()  # Print a newline after each row\n"
   ]
  },
  {
   "cell_type": "code",
   "execution_count": 0,
   "metadata": {
    "application/vnd.databricks.v1+cell": {
     "cellMetadata": {
      "byteLimit": 2048000,
      "rowLimit": 10000
     },
     "inputWidgets": {},
     "nuid": "4acc6a94-9df3-4e45-b292-f53c609898ac",
     "showTitle": false,
     "tableResultSettingsMap": {},
     "title": ""
    }
   },
   "outputs": [
    {
     "output_type": "display_data",
     "data": {
      "text/plain": [
       "Enter the number of rows: 4"
      ]
     },
     "metadata": {},
     "output_type": "display_data"
    },
    {
     "output_type": "stream",
     "name": "stdout",
     "output_type": "stream",
     "text": [
      "1 \n2 3 \n3 4 5 \n4 5 6 7 \n"
     ]
    }
   ],
   "source": [
    "n = int(input(\"Enter the number of rows:\"))\n",
    "for i in range(n):\n",
    "    num = i + 1  # Start number for each row\n",
    "    for j in range(i + 1):\n",
    "        print(num, end=\" \")  # Print the number\n",
    "        num = num + 1  # Increment the number for the next value in the row\n",
    "    print()  # Print a newline after each row\n"
   ]
  },
  {
   "cell_type": "code",
   "execution_count": 0,
   "metadata": {
    "application/vnd.databricks.v1+cell": {
     "cellMetadata": {
      "byteLimit": 2048000,
      "rowLimit": 10000
     },
     "inputWidgets": {},
     "nuid": "bee7e857-b21e-438f-91ab-87abb7656af6",
     "showTitle": false,
     "tableResultSettingsMap": {},
     "title": ""
    }
   },
   "outputs": [
    {
     "output_type": "display_data",
     "data": {
      "text/plain": [
       "Enter the number of rows: 4"
      ]
     },
     "metadata": {},
     "output_type": "display_data"
    },
    {
     "output_type": "stream",
     "name": "stdout",
     "output_type": "stream",
     "text": [
      "1 \n2 3 \n4 5 6 \n7 8 9 10 \n"
     ]
    }
   ],
   "source": [
    "n = int(input(\"Enter the number of rows:\"))\n",
    "num = 1  # Start number for the first row\n",
    "for i in range(n):\n",
    "    for j in range(i + 1):\n",
    "        print(num, end=\" \")  # Print the current number\n",
    "        num = num + 1  # Increment the number for the next value\n",
    "    print()  # Print a newline after each row\n"
   ]
  },
  {
   "cell_type": "code",
   "execution_count": 0,
   "metadata": {
    "application/vnd.databricks.v1+cell": {
     "cellMetadata": {
      "byteLimit": 2048000,
      "rowLimit": 10000
     },
     "inputWidgets": {},
     "nuid": "df6b24f6-ffc6-49cf-972e-11c823b4264a",
     "showTitle": false,
     "tableResultSettingsMap": {},
     "title": ""
    }
   },
   "outputs": [
    {
     "output_type": "display_data",
     "data": {
      "text/plain": [
       "enter a string: Dipak Waghamode"
      ]
     },
     "metadata": {},
     "output_type": "display_data"
    },
    {
     "output_type": "stream",
     "name": "stdout",
     "output_type": "stream",
     "text": [
      "reversed string is: edomahgaW kapiD\n"
     ]
    }
   ],
   "source": [
    "def reverse(string):\n",
    "    reverse_string = \"\"  # Initialize an empty string to hold the reversed string\n",
    "    for i in string:  # Loop through each character in the string\n",
    "        reverse_string = i + reverse_string  # Add the current character at the front of reverse_string\n",
    "    print(\"reversed string is:\", reverse_string)  # Print the reversed string\n",
    "\n",
    "string = input(\"enter a string:\")  # Take input from the user\n",
    "reverse(string)  # Call the reverse function to reverse the string\n"
   ]
  },
  {
   "cell_type": "code",
   "execution_count": 0,
   "metadata": {
    "application/vnd.databricks.v1+cell": {
     "cellMetadata": {
      "byteLimit": 2048000,
      "rowLimit": 10000
     },
     "inputWidgets": {},
     "nuid": "07f3f5db-02bb-42fa-92b5-0aaa9ea3bba1",
     "showTitle": false,
     "tableResultSettingsMap": {},
     "title": ""
    }
   },
   "outputs": [
    {
     "output_type": "display_data",
     "data": {
      "text/plain": [
       "Enter a number:  154"
      ]
     },
     "metadata": {},
     "output_type": "display_data"
    },
    {
     "output_type": "stream",
     "name": "stdout",
     "output_type": "stream",
     "text": [
      "Reversed number is: 451\n"
     ]
    }
   ],
   "source": [
    "def reverse_number(number):\n",
    "    reversed_number = 0  # This will store the reversed number\n",
    "\n",
    "    while number > 0:  # Loop until the number becomes 0\n",
    "        digit = number % 10  # Get the last digit of the number\n",
    "        reversed_number = reversed_number * 10 + digit  # Shift digits to the left and add the new digit\n",
    "        number = number // 10  # Remove the last digit from the number\n",
    "\n",
    "    print(\"Reversed number is:\", reversed_number)\n",
    "\n",
    "# Take input from the user\n",
    "number = int(input(\"Enter a number: \"))\n",
    "reverse_number(number)  # Call the function to reverse the number\n"
   ]
  },
  {
   "cell_type": "code",
   "execution_count": 0,
   "metadata": {
    "application/vnd.databricks.v1+cell": {
     "cellMetadata": {
      "byteLimit": 2048000,
      "rowLimit": 10000
     },
     "inputWidgets": {},
     "nuid": "0024d19f-ef29-4bea-b9d1-6b5d896c3aed",
     "showTitle": false,
     "tableResultSettingsMap": {},
     "title": ""
    }
   },
   "outputs": [
    {
     "output_type": "display_data",
     "data": {
      "text/plain": [
       "Enter the number: 123"
      ]
     },
     "metadata": {},
     "output_type": "display_data"
    },
    {
     "output_type": "stream",
     "name": "stdout",
     "output_type": "stream",
     "text": [
      "reverse no is: 321\n"
     ]
    }
   ],
   "source": [
    "no = input(\"Enter the number:\")\n",
    "reverse_no = no[::-1] #This is slicing :: notation in Python. It tells Python to start : at the end : of the string and go backward, & reversing the string.no[::-1]: Reverses the string stored in no.\n",
    "print(\"reverse no is:\",reverse_no)"
   ]
  },
  {
   "cell_type": "code",
   "execution_count": 0,
   "metadata": {
    "application/vnd.databricks.v1+cell": {
     "cellMetadata": {
      "byteLimit": 2048000,
      "rowLimit": 10000
     },
     "inputWidgets": {},
     "nuid": "316a687e-81f8-4fdf-a496-55856e42b869",
     "showTitle": false,
     "tableResultSettingsMap": {},
     "title": ""
    }
   },
   "outputs": [
    {
     "output_type": "stream",
     "name": "stdout",
     "output_type": "stream",
     "text": [
      "Even numbers: [2, 4, 6, 8]\n"
     ]
    }
   ],
   "source": [
    "numbers = {1, 2, 3, 4, 5, 6, 7, 8, 9}  # Example set of numbers\n",
    "\n",
    "# Find and print even numbers from the set\n",
    "even_numbers = [num for num in numbers if num % 2 == 0]\n",
    "print(\"Even numbers:\", even_numbers)\n"
   ]
  },
  {
   "cell_type": "code",
   "execution_count": 0,
   "metadata": {
    "application/vnd.databricks.v1+cell": {
     "cellMetadata": {},
     "inputWidgets": {},
     "nuid": "1e399f37-fab2-42d9-ac48-07f18b063918",
     "showTitle": false,
     "tableResultSettingsMap": {},
     "title": ""
    }
   },
   "outputs": [],
   "source": []
  }
 ],
 "metadata": {
  "application/vnd.databricks.v1+notebook": {
   "computePreferences": null,
   "dashboards": [],
   "environmentMetadata": {
    "base_environment": "",
    "client": "1"
   },
   "language": "python",
   "notebookMetadata": {
    "pythonIndentUnit": 4
   },
   "notebookName": "Python_Foundation_Week1",
   "widgets": {}
  }
 },
 "nbformat": 4,
 "nbformat_minor": 0
}
